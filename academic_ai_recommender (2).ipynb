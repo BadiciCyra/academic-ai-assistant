
# KİŞİSELLEŞTİRİLMİŞ AKADEMİK KAYNAK ASİSTANI + FAISS ENTEGRASYONU

## 🔧 Gerekli Kütüphaneler
!pip install arxiv
!pip install sentence-transformers
!pip install faiss-cpu

## 🧬 Model ve Kütüphaneleri Yükle
import arxiv
import faiss
import numpy as np
from sentence_transformers import SentenceTransformer, util

model = SentenceTransformer('all-MiniLM-L6-v2')

## 🔍 Arxiv’den Makale Çek
def arxiv_search(query, max_results=10):
    search = arxiv.Search(
        query=query,
        max_results=max_results,
        sort_by=arxiv.SortCriterion.Relevance
    )

    results = []
    for result in search.results():
        results.append({
            "title": result.title,
            "summary": result.summary,
            "url": result.pdf_url,
            "authors": [a.name for a in result.authors],
            "published": result.published
        })
    return results

## 🗃️ FAISS Vektör Veritabanı Oluştur ve Kaydet
class PersonalRecommender:
    def __init__(self):
        self.index = None
        self.papers = []
        self.embeddings = []
        self.user_interests = []

    def build_index(self, papers):
        self.papers = papers
        summaries = [p["summary"] for p in papers]
        self.embeddings = model.encode(summaries)
        dim = self.embeddings[0].shape[0]
        self.index = faiss.IndexFlatL2(dim)
        self.index.add(np.array(self.embeddings).astype("float32"))

    def add_interest(self, topic):
        self.user_interests.append(topic)

    def suggest(self, query, top_k=5):
        query_embedding = model.encode([query])
        D, I = self.index.search(np.array(query_embedding).astype("float32"), top_k)
        results = []
        for idx in I[0]:
            results.append(self.papers[idx])
        return results

## 👤 Kullanıcı Etkileşimi ve Kişiselleştirme
assistant = PersonalRecommender()

# Kullanıcının ilgi alanını al
interest_topic = input("Hangi alanda araştırma yapmak istersin? ")
assistant.add_interest(interest_topic)

# Makaleleri çek
results = arxiv_search(interest_topic)
assistant.build_index(results)

# Önerileri al
print(f"\n🔍 '{interest_topic}' konusuna göre sana özel öneriler:\n")
recommendations = assistant.suggest(interest_topic)

for paper in recommendations:
    print(f"📄 {paper['title']}")
    print(f"🔗 {paper['url']}")
    print(f"👥 Yazarlar: {', '.join(paper['authors'])}")
    print("-" * 60)

## 💾 (İsteğe Bağlı) Kullanıcı ilgi alanlarını kaydetmek
import json
with open("user_profile.json", "w") as f:
    json.dump({"interests": assistant.user_interests}, f)
